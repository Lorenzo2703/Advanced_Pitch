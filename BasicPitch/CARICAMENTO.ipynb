{
 "cells": [
  {
   "cell_type": "code",
   "execution_count": null,
   "metadata": {},
   "outputs": [],
   "source": [
    "import tensorflow as tf\n",
    "from tensorflow import Tensor, signal, keras, saved_model\n",
    "from basic_pitch import ICASSP_2022_MODEL_PATH\n",
    "from basic_pitch import models\n",
    "\n",
    "model_path = ICASSP_2022_MODEL_PATH\n",
    "oldmodel = saved_model.load(str(model_path))\n",
    "# Verifica se il modello è un Keras Model\n",
    "weights = oldmodel.variables\n",
    "\n",
    "model.set_weights(weights)\n",
    "for layer in model.layers:\n",
    "    print(layer.name)\n",
    "    print(layer.get_config())\n",
    "    print(layer.get_weights())\n",
    "\n",
    "\n"
   ]
  },
  {
   "cell_type": "code",
   "execution_count": 1,
   "metadata": {},
   "outputs": [],
   "source": [
    "import mirdata\n",
    "slakh = mirdata.initialize('slakh', data_home='/home/seraf/mir_datasets/slakh')"
   ]
  },
  {
   "cell_type": "code",
   "execution_count": 10,
   "metadata": {},
   "outputs": [
    {
     "name": "stdout",
     "output_type": "stream",
     "text": [
      "ciao\n",
      "0\n",
      "ciao\n",
      "1\n",
      "ciao\n",
      "2\n",
      "ciao\n",
      "3\n",
      "ciao\n",
      "4\n",
      "ciao\n",
      "5\n",
      "ciao\n",
      "6\n",
      "ciao\n",
      "7\n",
      "ciao\n",
      "8\n",
      "ciao\n",
      "9\n"
     ]
    }
   ],
   "source": [
    "def funzione():\n",
    "    for i in range(10):\n",
    "        print('ciao')\n",
    "        yield i\n",
    "\n",
    "for j in funzione():\n",
    "    print(j)\n"
   ]
  },
  {
   "cell_type": "code",
   "execution_count": null,
   "metadata": {},
   "outputs": [],
   "source": []
  }
 ],
 "metadata": {
  "kernelspec": {
   "display_name": ".venv",
   "language": "python",
   "name": "python3"
  },
  "language_info": {
   "codemirror_mode": {
    "name": "ipython",
    "version": 3
   },
   "file_extension": ".py",
   "mimetype": "text/x-python",
   "name": "python",
   "nbconvert_exporter": "python",
   "pygments_lexer": "ipython3",
   "version": "3.11.9"
  }
 },
 "nbformat": 4,
 "nbformat_minor": 2
}
